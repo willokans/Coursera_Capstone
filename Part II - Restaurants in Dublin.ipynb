{
    "cells": [
        {
            "metadata": {},
            "cell_type": "code",
            "source": "!pip -q install folium\nprint('folium installed...')\nimport folium \nprint('folium imported...')\n\n#library to handle data in a vectorized manner\nimport numpy as np\nprint('numpy imported...')\n\n#library for data analysis\nimport pandas as pd\npd.set_option('display.max_columns', None)\npd.set_option('display.max_rows', None)\nprint('pandas imported...')\n\n#library to handle JSON file\nimport json\nprint('json imported...')\n\n!pip -q install geopy\n# conda install -c conda-forge geopy --yes # uncomment this line if you haven't completed the Foursquare API lab\nprint('geopy installed...')\n# convert an address into latitude and longitude values\nfrom geopy.geocoders import Nominatim\nprint('Nominatim imported...')\n\n# library to handle request\nimport requests\nprint('requests imported...')\n\n# Matplotlib and associated plotting modules\nimport matplotlib.cm as cm\nimport matplotlib.colors as colors\nimport matplotlib.pyplot as plt\n%matplotlib inline\nprint('matplotlib imported...')\n\n# transform JSON file into a pandas dataframe\nfrom pandas.io.json import json_normalize\nprint('json_normalize imported...')\n\n# library used for data visualization\nimport seaborn as sns\nprint('seaborn imported...')\n\n# import k-means from clustering stage\nfrom sklearn.cluster import KMeans\nprint('k-means imported...')\n\n#import time\nimport time\n\nprint('DONE - All Dependencies imported...')",
            "execution_count": 7,
            "outputs": [
                {
                    "output_type": "stream",
                    "text": "folium installed...\nfolium imported...\nnumpy imported...\npandas imported...\njson imported...\ngeopy installed...\nNominatim imported...\nrequests imported...\nmatplotlib imported...\njson_normalize imported...\nseaborn imported...\nk-means imported...\nDONE - All Dependencies imported...\n",
                    "name": "stdout"
                }
            ]
        },
        {
            "metadata": {},
            "cell_type": "code",
            "source": "\ngeolocator= Nominatim(user_agent=\"tor_eplorer\")",
            "execution_count": 4,
            "outputs": []
        },
        {
            "metadata": {},
            "cell_type": "code",
            "source": "",
            "execution_count": null,
            "outputs": []
        },
        {
            "metadata": {},
            "cell_type": "code",
            "source": "",
            "execution_count": null,
            "outputs": []
        }
    ],
    "metadata": {
        "kernelspec": {
            "name": "python3",
            "display_name": "Python 3.6",
            "language": "python"
        },
        "language_info": {
            "name": "python",
            "version": "3.6.9",
            "mimetype": "text/x-python",
            "codemirror_mode": {
                "name": "ipython",
                "version": 3
            },
            "pygments_lexer": "ipython3",
            "nbconvert_exporter": "python",
            "file_extension": ".py"
        }
    },
    "nbformat": 4,
    "nbformat_minor": 1
}